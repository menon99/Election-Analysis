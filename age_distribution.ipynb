{
 "cells": [
  {
   "cell_type": "code",
   "execution_count": 30,
   "metadata": {},
   "outputs": [],
   "source": [
    "import pandas as pd\n",
    "import numpy as np\n",
    "import seaborn as sns\n",
    "from collections import OrderedDict\n",
    "from matplotlib.colors import ListedColormap"
   ]
  },
  {
   "cell_type": "code",
   "execution_count": 31,
   "metadata": {},
   "outputs": [],
   "source": [
    "df = pd.read_csv('2009.csv')\n",
    "#df.head()"
   ]
  },
  {
   "cell_type": "code",
   "execution_count": 32,
   "metadata": {},
   "outputs": [],
   "source": [
    "parties = df['PARTY'].unique()\n",
    "index = np.where(parties == 'IND')\n",
    "parties = np.delete(parties,index)"
   ]
  },
  {
   "cell_type": "code",
   "execution_count": 33,
   "metadata": {},
   "outputs": [],
   "source": [
    "parties_age = {}\n",
    "for i in parties:\n",
    "    temp = df[df['PARTY'] == i]\n",
    "    cand = temp['CANDIDATE'].unique()\n",
    "    arr = []\n",
    "    for j in cand:\n",
    "        t1 = temp[temp['CANDIDATE'] == j]\n",
    "        age = t1['AGE'][t1.index[0]]\n",
    "        arr.append(age)\n",
    "    parties_age[i] = arr"
   ]
  },
  {
   "cell_type": "code",
   "execution_count": 34,
   "metadata": {},
   "outputs": [],
   "source": [
    "party_candidates = {}\n",
    "for i in parties_age.keys():\n",
    "    l = len(parties_age[i])\n",
    "    party_candidates[i] = l\n",
    "party_candidates = {k: v for k, v in sorted(party_candidates.items(), key=lambda item: item[1])}"
   ]
  },
  {
   "cell_type": "code",
   "execution_count": 35,
   "metadata": {},
   "outputs": [],
   "source": [
    "ordered = OrderedDict(party_candidates)\n",
    "top5 = []\n",
    "for i in range(5):\n",
    "    res = ordered.popitem()\n",
    "    top5.append(res[0])\n",
    "#top5"
   ]
  },
  {
   "cell_type": "code",
   "execution_count": 36,
   "metadata": {},
   "outputs": [],
   "source": [
    "k = 1\n",
    "w = 0\n",
    "age_index = {}\n",
    "for i in range(25,65):\n",
    "    w += 1\n",
    "    age_index[i] = k\n",
    "    if w == 10:\n",
    "        w = 0\n",
    "        k += 1"
   ]
  },
  {
   "cell_type": "code",
   "execution_count": 37,
   "metadata": {},
   "outputs": [],
   "source": [
    "def rangeCount(party,arr,age_index):\n",
    "    data = [party,0,0,0,0,0]\n",
    "    for i in arr:\n",
    "        if i >= 65:\n",
    "            data[5] += 1\n",
    "        else:\n",
    "            data[age_index[i]] += 1\n",
    "    return data"
   ]
  },
  {
   "cell_type": "code",
   "execution_count": 38,
   "metadata": {},
   "outputs": [],
   "source": [
    "data = []\n",
    "for i in top5:\n",
    "    party = i\n",
    "    arr = parties_age[party]\n",
    "    data.append(rangeCount(party,arr,age_index))"
   ]
  },
  {
   "cell_type": "code",
   "execution_count": 39,
   "metadata": {},
   "outputs": [],
   "source": [
    "df2 = pd.DataFrame(columns=[\"Party\",\"25-35\", \"35-45\",\"45-55\",\"55-65\",\"65+\",], \n",
    "                  data = data)"
   ]
  },
  {
   "cell_type": "code",
   "execution_count": 40,
   "metadata": {},
   "outputs": [],
   "source": [
    "#df2.head()"
   ]
  },
  {
   "cell_type": "code",
   "execution_count": 41,
   "metadata": {},
   "outputs": [
    {
     "data": {
      "image/png": "[encoded data removed]",
      "text/plain": [
       "<Figure size 1080x720 with 1 Axes>"
      ]
     },
     "metadata": {
      "needs_background": "light"
     },
     "output_type": "display_data"
    }
   ],
   "source": [
    "chart = df2.set_index('Party')\\\n",
    "  .reindex(df2.set_index('Party').sum().index, axis=1)\\\n",
    "  .T.plot(kind='bar', stacked=True,\n",
    "          colormap=ListedColormap(sns.color_palette(\"GnBu\", 5)), \n",
    "          figsize=(15,10))\n",
    "chart = chart.set_xticklabels(chart.get_xticklabels(), rotation=0,fontsize='x-large')"
   ]
  }
 ],
 "metadata": {
  "kernelspec": {
   "display_name": "Python 3",
   "language": "python",
   "name": "python3"
  },
  "language_info": {
   "codemirror_mode": {
    "name": "ipython",
    "version": 3
   },
   "file_extension": ".py",
   "mimetype": "text/x-python",
   "name": "python",
   "nbconvert_exporter": "python",
   "pygments_lexer": "ipython3",
   "version": "3.7.5"
  },
  "varInspector": {
   "cols": {
    "lenName": 16,
    "lenType": 16,
    "lenVar": 40
   },
   "kernels_config": {
    "python": {
     "delete_cmd_postfix": "",
     "delete_cmd_prefix": "del ",
     "library": "var_list.py",
     "varRefreshCmd": "print(var_dic_list())"
    },
    "r": {
     "delete_cmd_postfix": ") ",
     "delete_cmd_prefix": "rm(",
     "library": "var_list.r",
     "varRefreshCmd": "cat(var_dic_list()) "
    }
   },
   "types_to_exclude": [
    "module",
    "function",
    "builtin_function_or_method",
    "instance",
    "_Feature"
   ],
   "window_display": false
  }
 },
 "nbformat": 4,
 "nbformat_minor": 2
}
